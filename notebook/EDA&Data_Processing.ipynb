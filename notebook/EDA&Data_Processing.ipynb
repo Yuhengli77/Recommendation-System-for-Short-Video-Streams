{
 "cells": [
  {
   "cell_type": "code",
   "execution_count": 1,
   "id": "93a9bff7",
   "metadata": {},
   "outputs": [],
   "source": [
    "import os\n",
    "import pandas as pd\n",
    "import numpy as np\n",
    "\n",
    "data_path = \"../data/KuaiSAR_final\"\n",
    "\n",
    "# inter = pd.read_csv(data_path + '/rec_inter.csv')\n",
    "use_cols = ['user_id', 'item_id', 'timestamp', 'click', 'like', 'follow', 'search']\n",
    "df = pd.read_csv(data_path + '/rec_inter.csv', usecols=use_cols)"
   ]
  },
  {
   "cell_type": "code",
   "execution_count": 2,
   "id": "7c04fa7e",
   "metadata": {},
   "outputs": [],
   "source": [
    "# data cleaning & preprocessing\n",
    "\n",
    "for c in [\"click\",\"like\",\"follow\",\"search\"]:\n",
    "    df[c] = df[c].fillna(0).astype(np.int8)\n",
    "\n",
    "# only keep recommendation interaction(none search)\n",
    "df = df[df['search'] == 0]\n",
    "\n",
    "df['pos'] = ((df['click'] + df['like'] + df['follow']) > 0).astype(np.int8)\n",
    "\n",
    "# timestamp\n",
    "ts = pd.to_numeric(df['timestamp'], errors='coerce')\n",
    "df = df[ts.notna()].copy()\n",
    "df['ts'] = ts.astype('int64')"
   ]
  },
  {
   "cell_type": "code",
   "execution_count": 3,
   "id": "80c243c0",
   "metadata": {},
   "outputs": [],
   "source": [
    "# Use last positive interaction as test set\n",
    "pos_df = df[df['pos'] == 1].copy()\n",
    "if pos_df.empty:\n",
    "    raise ValueError(\"No positive interactions found in the dataset\")\n",
    "\n",
    "# leave-one-out test\n",
    "idx_test = pos_df.groupby('user_id')['ts'].idxmax()\n",
    "test = pos_df.loc[idx_test]\n",
    "train = pos_df.drop(index=idx_test)\n",
    "\n",
    "train['w'] = (1*train['click'] + 2*train['like'] + 3*train['follow']).astype(np.int16)\n",
    "pop = train.groupby('item_id')['w'].sum().sort_values(ascending=False)\n",
    "K = 50\n",
    "topk = pop.index[:K].tolist()"
   ]
  },
  {
   "cell_type": "code",
   "execution_count": 4,
   "id": "af6fc569",
   "metadata": {},
   "outputs": [
    {
     "name": "stdout",
     "output_type": "stream",
     "text": [
      "Users in test: 25318\n",
      "HR@50: 0.0190  NDCG@50: 0.0058\n"
     ]
    }
   ],
   "source": [
    "# Baseline Model -> Most Popular Model\n",
    "\n",
    "rank_map = pd.Series(np.arange(len(topk)), index=topk)\n",
    "test['rank'] = test['item_id'].map(rank_map)\n",
    "\n",
    "hr = (test['rank'] < K).fillna(False).mean()\n",
    "gains = np.where(test[\"rank\"].notna() & (test[\"rank\"] < K), 1.0/np.log2(test[\"rank\"]+2), 0.0)\n",
    "ndcg = gains.mean()\n",
    "\n",
    "print(f\"Users in test: {len(test)}\")\n",
    "print(f\"HR@{K}: {hr:.4f}  NDCG@{K}: {ndcg:.4f}\")"
   ]
  },
  {
   "cell_type": "code",
   "execution_count": null,
   "id": "ba2df237",
   "metadata": {},
   "outputs": [],
   "source": []
  }
 ],
 "metadata": {
  "kernelspec": {
   "display_name": "base",
   "language": "python",
   "name": "python3"
  },
  "language_info": {
   "codemirror_mode": {
    "name": "ipython",
    "version": 3
   },
   "file_extension": ".py",
   "mimetype": "text/x-python",
   "name": "python",
   "nbconvert_exporter": "python",
   "pygments_lexer": "ipython3",
   "version": "3.12.4"
  }
 },
 "nbformat": 4,
 "nbformat_minor": 5
}
